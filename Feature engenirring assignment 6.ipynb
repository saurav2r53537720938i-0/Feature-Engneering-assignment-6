{
 "cells": [
  {
   "cell_type": "markdown",
   "id": "d3f291c8-186a-4a4b-af2f-8db1d36ca71a",
   "metadata": {},
   "source": [
    "The person correlation cofficent often denoted as(r) measure the strenghth and direction of the linear relationship \n",
    "between  two variables it ranges from -1 to 1\n",
    "(r=1) indicate a perfect postive linear relationship\n",
    "(r=-1)indicate a perfect negative linear relationship\n",
    "(r=0) indicating no linear realtionship"
   ]
  },
  {
   "cell_type": "markdown",
   "id": "27087734-8b1d-48cf-94e4-c5bc9ae35ef4",
   "metadata": {},
   "source": [
    "import numpy as np\n",
    "from scipy.stats import spearmanr\n",
    "\n",
    "# Sample data\n",
    "sleep_hours = [7,6,8,5,7]\n",
    "job_statsfaction = [8,7,9,5,6]\n",
    "\n",
    "# Rank the data\n",
    "sleep_rank = np.argosor(sleep_hours).argsort()\n",
    "job_satisfaction_rank =np.argsort(job.statisfaction).argsort()\n",
    "\n",
    "# Calculate spearman rank corrleation cofficent\n",
    "spearman_corr,_=\n",
    "speaarmanr(sleep_rank,\n",
    "           job_satisfaction_rank)\n",
    "print(\"Spearman Rank Correlation Coefficent;\", Spearman_corr)"
   ]
  },
  {
   "cell_type": "markdown",
   "id": "cd8f0734-cce4-400c-9f64-e7d00e73d137",
   "metadata": {},
   "source": [
    "To analyze the relationship between the number of hours of exercise per week and BMI you first collected data on both variable for 50 participants then you calculated both for 50 partcipants  you calculated both the person correlation coffecient and the spearman rank correlation between these two varaiable.finally you compared the result of the two correlation cofficent to understand how they differ in capturiing the relationship between exercise hours and BMI"
   ]
  },
  {
   "cell_type": "markdown",
   "id": "2d131213-e7e6-488d-a0b7-a61a09c143dc",
   "metadata": {},
   "source": [
    "To analyze their relationship between age and prefrence for the soft drink brand you could use statical method such \n",
    "as correlation analysis or chi-square test however the data provided seems incomplete could you pease provide the ages corresponding to each softt drink prefrence "
   ]
  },
  {
   "cell_type": "code",
   "execution_count": null,
   "id": "d0813b95-0f80-44a6-8311-16b79bdc5534",
   "metadata": {},
   "outputs": [],
   "source": []
  }
 ],
 "metadata": {
  "kernelspec": {
   "display_name": "Python 3 (ipykernel)",
   "language": "python",
   "name": "python3"
  },
  "language_info": {
   "codemirror_mode": {
    "name": "ipython",
    "version": 3
   },
   "file_extension": ".py",
   "mimetype": "text/x-python",
   "name": "python",
   "nbconvert_exporter": "python",
   "pygments_lexer": "ipython3",
   "version": "3.10.8"
  }
 },
 "nbformat": 4,
 "nbformat_minor": 5
}
